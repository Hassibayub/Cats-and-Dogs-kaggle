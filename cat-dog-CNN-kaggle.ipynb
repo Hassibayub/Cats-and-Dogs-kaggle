{
 "cells": [
  {
   "cell_type": "code",
   "execution_count": 27,
   "metadata": {},
   "outputs": [],
   "source": [
    "import cv2 as cv \n",
    "import numpy as np\n",
    "import matplotlib.pyplot as plt\n",
    "import os \n",
    "import pickle\n",
    "\n",
    "CATEGORIES = {\n",
    "    'cat':0,\n",
    "    'dog':1\n",
    "}\n",
    "\n",
    "def FIND_TYPE(val):\n",
    "    if 'dog' in root:\n",
    "        return (CATEGORIES['dog'])\n",
    "    elif 'cat' in root:\n",
    "        return (CATEGORIES['cat'])\n",
    "\n",
    "    \n",
    "def IMG_to_NUMPY(directory,root):\n",
    "    path = os.path.join(directory,root)\n",
    "    img = cv.imread(path, cv.IMREAD_GRAYSCALE)\n",
    "    img = cv.resize(img,(50,50))\n",
    "    arr = np.array(img,'uint8')\n",
    "    return arr\n",
    "\n",
    "\n",
    "\n",
    "x_train = []\n",
    "y_train = []\n",
    "\n",
    "x_test = []\n",
    "y_test = []\n",
    "\n",
    "TRAIN_PATH = r'training_set'\n",
    "TEST_PATH = r'test_set' \n",
    "FILE_PATH = r'C:\\Users\\user\\Documents\\Python Scripts\\Machine Learning\\Dogs Cats CNN\\dataset'\n",
    "\n",
    "########## Training data\n",
    "for directories ,_,roots in os.walk(os.path.join(FILE_PATH,TRAIN_PATH)):\n",
    "    for root in roots:\n",
    "        y_train.append(FIND_TYPE(root))\n",
    "        x_train.append(IMG_to_NUMPY(directories,root)) \n",
    "\n",
    "########### test data\n",
    "for directories ,_,roots in os.walk(os.path.join(FILE_PATH,TEST_PATH)):\n",
    "    for root in roots:\n",
    "        y_test.append(FIND_TYPE(root))\n",
    "        x_test.append(IMG_to_NUMPY(directories,root)) \n",
    "\n",
    "\n",
    "x_train = np.array(x_train)\n",
    "x_train = x_train.reshape(-1,50,50,1)\n",
    "\n",
    "x_test = np.array(x_test)\n",
    "x_test = x_test.reshape(-1,50,50,1)\n",
    "\n",
    "y_train = np.array(y_train)\n",
    "y_test = np.array(y_test)\n",
    "\n",
    "\n"
   ]
  },
  {
   "cell_type": "code",
   "execution_count": 25,
   "metadata": {},
   "outputs": [],
   "source": [
    "with open('x_train.pickle','wb') as f:\n",
    "    pickle.dump(x_train,f)\n",
    "\n",
    "with open('y_train.pickle','wb') as f:\n",
    "    pickle.dump(y_train,f)\n",
    "\n",
    "with open('x_test.pickle','wb') as f:\n",
    "    pickle.dump(x_test,f)\n",
    "\n",
    "with open('y_test.pickle','wb') as f:\n",
    "    pickle.dump(y_test,f)\n"
   ]
  },
  {
   "cell_type": "code",
   "execution_count": 28,
   "metadata": {},
   "outputs": [
    {
     "name": "stdout",
     "output_type": "stream",
     "text": [
      "(8000, 50, 50, 1)\n",
      "(8000,)\n",
      "(2000, 50, 50, 1)\n",
      "(2000,)\n"
     ]
    }
   ],
   "source": [
    "print(x_train.shape)\n",
    "print(y_train.shape)\n",
    "print(x_test.shape)\n",
    "print(y_test.shape)\n"
   ]
  },
  {
   "cell_type": "code",
   "execution_count": 42,
   "metadata": {},
   "outputs": [
    {
     "name": "stdout",
     "output_type": "stream",
     "text": [
      "1\n"
     ]
    },
    {
     "data": {
      "image/png": "[encoded data removed]",
      "text/plain": [
       "<Figure size 432x288 with 1 Axes>"
      ]
     },
     "metadata": {
      "needs_background": "light"
     },
     "output_type": "display_data"
    }
   ],
   "source": [
    "\n",
    "img = x_test[1000].reshape(50,50)\n",
    "\n",
    "plt.imshow(img,'gray')\n",
    "\n",
    "img.shape\n",
    "\n",
    "print(y_train[4000])"
   ]
  },
  {
   "cell_type": "code",
   "execution_count": 30,
   "metadata": {},
   "outputs": [
    {
     "ename": "IndexError",
     "evalue": "index 4000 is out of bounds for axis 0 with size 2000",
     "output_type": "error",
     "traceback": [
      "\u001b[1;31m---------------------------------------------------------------------------\u001b[0m",
      "\u001b[1;31mIndexError\u001b[0m                                Traceback (most recent call last)",
      "\u001b[1;32m<ipython-input-30-cd49f9869044>\u001b[0m in \u001b[0;36m<module>\u001b[1;34m\u001b[0m\n\u001b[1;32m----> 1\u001b[1;33m \u001b[0mx_test\u001b[0m\u001b[1;33m[\u001b[0m\u001b[1;36m4000\u001b[0m\u001b[1;33m]\u001b[0m\u001b[1;33m\u001b[0m\u001b[1;33m\u001b[0m\u001b[0m\n\u001b[0m",
      "\u001b[1;31mIndexError\u001b[0m: index 4000 is out of bounds for axis 0 with size 2000"
     ]
    }
   ],
   "source": [
    "x_test[4000]"
   ]
  },
  {
   "cell_type": "code",
   "execution_count": null,
   "metadata": {},
   "outputs": [],
   "source": []
  },
  {
   "cell_type": "code",
   "execution_count": null,
   "metadata": {},
   "outputs": [],
   "source": []
  },
  {
   "cell_type": "code",
   "execution_count": null,
   "metadata": {},
   "outputs": [],
   "source": []
  },
  {
   "cell_type": "code",
   "execution_count": null,
   "metadata": {},
   "outputs": [],
   "source": []
  }
 ],
 "metadata": {
  "kernelspec": {
   "display_name": "Python [conda env:tf1] *",
   "language": "python",
   "name": "conda-env-tf1-py"
  },
  "language_info": {
   "codemirror_mode": {
    "name": "ipython",
    "version": 3
   },
   "file_extension": ".py",
   "mimetype": "text/x-python",
   "name": "python",
   "nbconvert_exporter": "python",
   "pygments_lexer": "ipython3",
   "version": "3.7.6"
  }
 },
 "nbformat": 4,
 "nbformat_minor": 2
}
